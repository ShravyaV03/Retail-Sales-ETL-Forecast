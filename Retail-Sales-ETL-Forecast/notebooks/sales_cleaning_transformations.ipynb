
# Sales Data Cleaning & Transformation

This notebook demonstrates the cleaning and transformation of raw retail sales data using pandas (can be adapted to PySpark for large-scale deployment).

## Steps:
1. Load raw CSV data
2. Convert date formats
3. Handle missing or invalid values
4. Create calculated fields (monthly, yearly summaries)
5. Output transformed data

