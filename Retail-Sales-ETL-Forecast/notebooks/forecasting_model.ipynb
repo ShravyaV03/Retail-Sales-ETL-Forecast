
# Sales Forecasting Model

This notebook uses Facebook Prophet (or optionally ARIMA) to forecast future sales trends.

## Steps:
1. Load and prepare cleaned sales data
2. Aggregate total sales by month
3. Train forecasting model
4. Predict next 6 months of sales
5. Visualize results

